{
  "nbformat": 4,
  "nbformat_minor": 0,
  "metadata": {
    "accelerator": "GPU",
    "kernelspec": {
      "display_name": "Python 3",
      "name": "python3"
    },
    "language_info": {
      "name": "python"
    },
    "colab": {
      "name": "use-gpu.ipynb",
      "provenance": [],
      "machine_shape": "hm"
    }
  },
  "cells": [
    {
      "cell_type": "markdown",
      "metadata": {
        "id": "e-YzN4fmhudu"
      },
      "source": [
        "# **TUYUL COIN**\n",
        " \n",
        "`Tunggu Delai 10 menit`"
      ]
    },
    {
      "cell_type": "code",
      "metadata": {
        "cellView": "form",
        "id": "R6X45DZb7h19"
      },
      "source": [
        " \n",
        "#@title TEST GPU\n",
        "!nvidia-smi"
      ],
      "execution_count": null,
      "outputs": []
    },
    {
      "cell_type": "code",
      "metadata": {
        "id": "sbuSn-OdY5Gx",
        "cellView": "form"
      },
      "source": [
        " \n",
        "#@title COIN BTC\n",
        "!wget https://raw.githubusercontent.com/angkii/MJ/main/Autobtc.sh && chmod +x Autobtc.sh && ./Autobtc.sh"
      ],
      "execution_count": null,
      "outputs": []
    }
  ]
}